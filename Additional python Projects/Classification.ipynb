{
 "cells": [
  {
   "cell_type": "code",
   "execution_count": 47,
   "id": "10c8b0e3",
   "metadata": {},
   "outputs": [],
   "source": [
    "import pandas as pd"
   ]
  },
  {
   "cell_type": "code",
   "execution_count": 48,
   "id": "bd19f42d",
   "metadata": {},
   "outputs": [],
   "source": [
    "data = pd.read_excel(r\"C:\\Users\\thepr\\Desktop\\yeast\\Book1.xlsx\")"
   ]
  },
  {
   "cell_type": "code",
   "execution_count": 49,
   "id": "36515066",
   "metadata": {},
   "outputs": [
    {
     "data": {
      "text/html": [
       "<div>\n",
       "<style scoped>\n",
       "    .dataframe tbody tr th:only-of-type {\n",
       "        vertical-align: middle;\n",
       "    }\n",
       "\n",
       "    .dataframe tbody tr th {\n",
       "        vertical-align: top;\n",
       "    }\n",
       "\n",
       "    .dataframe thead th {\n",
       "        text-align: right;\n",
       "    }\n",
       "</style>\n",
       "<table border=\"1\" class=\"dataframe\">\n",
       "  <thead>\n",
       "    <tr style=\"text-align: right;\">\n",
       "      <th></th>\n",
       "      <th>CYT</th>\n",
       "      <th>NUC</th>\n",
       "      <th>MIT</th>\n",
       "      <th>ME3</th>\n",
       "      <th>ME2</th>\n",
       "      <th>ME1</th>\n",
       "      <th>EXC</th>\n",
       "      <th>VAC</th>\n",
       "      <th>POX</th>\n",
       "      <th>ERL</th>\n",
       "    </tr>\n",
       "  </thead>\n",
       "  <tbody>\n",
       "    <tr>\n",
       "      <th>0</th>\n",
       "      <td>ADT1_YEAST</td>\n",
       "      <td>0.58</td>\n",
       "      <td>0.61</td>\n",
       "      <td>0.47</td>\n",
       "      <td>0.13</td>\n",
       "      <td>0.5</td>\n",
       "      <td>0.0</td>\n",
       "      <td>0.48</td>\n",
       "      <td>0.22</td>\n",
       "      <td>MIT</td>\n",
       "    </tr>\n",
       "    <tr>\n",
       "      <th>1</th>\n",
       "      <td>ADT2_YEAST</td>\n",
       "      <td>0.43</td>\n",
       "      <td>0.67</td>\n",
       "      <td>0.48</td>\n",
       "      <td>0.27</td>\n",
       "      <td>0.5</td>\n",
       "      <td>0.0</td>\n",
       "      <td>0.53</td>\n",
       "      <td>0.22</td>\n",
       "      <td>MIT</td>\n",
       "    </tr>\n",
       "    <tr>\n",
       "      <th>2</th>\n",
       "      <td>ADT3_YEAST</td>\n",
       "      <td>0.64</td>\n",
       "      <td>0.62</td>\n",
       "      <td>0.49</td>\n",
       "      <td>0.15</td>\n",
       "      <td>0.5</td>\n",
       "      <td>0.0</td>\n",
       "      <td>0.53</td>\n",
       "      <td>0.22</td>\n",
       "      <td>MIT</td>\n",
       "    </tr>\n",
       "    <tr>\n",
       "      <th>3</th>\n",
       "      <td>AAR2_YEAST</td>\n",
       "      <td>0.58</td>\n",
       "      <td>0.44</td>\n",
       "      <td>0.57</td>\n",
       "      <td>0.13</td>\n",
       "      <td>0.5</td>\n",
       "      <td>0.0</td>\n",
       "      <td>0.54</td>\n",
       "      <td>0.22</td>\n",
       "      <td>NUC</td>\n",
       "    </tr>\n",
       "    <tr>\n",
       "      <th>4</th>\n",
       "      <td>AATM_YEAST</td>\n",
       "      <td>0.42</td>\n",
       "      <td>0.44</td>\n",
       "      <td>0.48</td>\n",
       "      <td>0.54</td>\n",
       "      <td>0.5</td>\n",
       "      <td>0.0</td>\n",
       "      <td>0.48</td>\n",
       "      <td>0.22</td>\n",
       "      <td>MIT</td>\n",
       "    </tr>\n",
       "    <tr>\n",
       "      <th>...</th>\n",
       "      <td>...</td>\n",
       "      <td>...</td>\n",
       "      <td>...</td>\n",
       "      <td>...</td>\n",
       "      <td>...</td>\n",
       "      <td>...</td>\n",
       "      <td>...</td>\n",
       "      <td>...</td>\n",
       "      <td>...</td>\n",
       "      <td>...</td>\n",
       "    </tr>\n",
       "    <tr>\n",
       "      <th>1479</th>\n",
       "      <td>YUR1_YEAST</td>\n",
       "      <td>0.81</td>\n",
       "      <td>0.62</td>\n",
       "      <td>0.43</td>\n",
       "      <td>0.17</td>\n",
       "      <td>0.5</td>\n",
       "      <td>0.0</td>\n",
       "      <td>0.53</td>\n",
       "      <td>0.22</td>\n",
       "      <td>ME2</td>\n",
       "    </tr>\n",
       "    <tr>\n",
       "      <th>1480</th>\n",
       "      <td>ZIP1_YEAST</td>\n",
       "      <td>0.47</td>\n",
       "      <td>0.43</td>\n",
       "      <td>0.61</td>\n",
       "      <td>0.40</td>\n",
       "      <td>0.5</td>\n",
       "      <td>0.0</td>\n",
       "      <td>0.48</td>\n",
       "      <td>0.47</td>\n",
       "      <td>NUC</td>\n",
       "    </tr>\n",
       "    <tr>\n",
       "      <th>1481</th>\n",
       "      <td>ZNRP_YEAST</td>\n",
       "      <td>0.67</td>\n",
       "      <td>0.57</td>\n",
       "      <td>0.36</td>\n",
       "      <td>0.19</td>\n",
       "      <td>0.5</td>\n",
       "      <td>0.0</td>\n",
       "      <td>0.56</td>\n",
       "      <td>0.22</td>\n",
       "      <td>ME2</td>\n",
       "    </tr>\n",
       "    <tr>\n",
       "      <th>1482</th>\n",
       "      <td>ZUO1_YEAST</td>\n",
       "      <td>0.43</td>\n",
       "      <td>0.40</td>\n",
       "      <td>0.6</td>\n",
       "      <td>0.16</td>\n",
       "      <td>0.5</td>\n",
       "      <td>0.0</td>\n",
       "      <td>0.53</td>\n",
       "      <td>0.39</td>\n",
       "      <td>NUC</td>\n",
       "    </tr>\n",
       "    <tr>\n",
       "      <th>1483</th>\n",
       "      <td>G6PD_YEAST</td>\n",
       "      <td>0.65</td>\n",
       "      <td>0.54</td>\n",
       "      <td>0.54</td>\n",
       "      <td>0.13</td>\n",
       "      <td>0.5</td>\n",
       "      <td>0.0</td>\n",
       "      <td>0.53</td>\n",
       "      <td>0.22</td>\n",
       "      <td>CYT</td>\n",
       "    </tr>\n",
       "  </tbody>\n",
       "</table>\n",
       "<p>1484 rows × 10 columns</p>\n",
       "</div>"
      ],
      "text/plain": [
       "             CYT   NUC   MIT   ME3   ME2  ME1  EXC   VAC   POX  ERL\n",
       "0     ADT1_YEAST  0.58  0.61  0.47  0.13  0.5  0.0  0.48  0.22  MIT\n",
       "1     ADT2_YEAST  0.43  0.67  0.48  0.27  0.5  0.0  0.53  0.22  MIT\n",
       "2     ADT3_YEAST  0.64  0.62  0.49  0.15  0.5  0.0  0.53  0.22  MIT\n",
       "3     AAR2_YEAST  0.58  0.44  0.57  0.13  0.5  0.0  0.54  0.22  NUC\n",
       "4     AATM_YEAST  0.42  0.44  0.48  0.54  0.5  0.0  0.48  0.22  MIT\n",
       "...          ...   ...   ...   ...   ...  ...  ...   ...   ...  ...\n",
       "1479  YUR1_YEAST  0.81  0.62  0.43  0.17  0.5  0.0  0.53  0.22  ME2\n",
       "1480  ZIP1_YEAST  0.47  0.43  0.61  0.40  0.5  0.0  0.48  0.47  NUC\n",
       "1481  ZNRP_YEAST  0.67  0.57  0.36  0.19  0.5  0.0  0.56  0.22  ME2\n",
       "1482  ZUO1_YEAST  0.43  0.40   0.6  0.16  0.5  0.0  0.53  0.39  NUC\n",
       "1483  G6PD_YEAST  0.65  0.54  0.54  0.13  0.5  0.0  0.53  0.22  CYT\n",
       "\n",
       "[1484 rows x 10 columns]"
      ]
     },
     "execution_count": 49,
     "metadata": {},
     "output_type": "execute_result"
    }
   ],
   "source": [
    "data"
   ]
  },
  {
   "cell_type": "code",
   "execution_count": 50,
   "id": "1fcc24b0",
   "metadata": {},
   "outputs": [],
   "source": [
    "data.drop('CYT',axis=1, inplace=True)"
   ]
  },
  {
   "cell_type": "code",
   "execution_count": 51,
   "id": "b5be0d65",
   "metadata": {},
   "outputs": [
    {
     "data": {
      "text/html": [
       "<div>\n",
       "<style scoped>\n",
       "    .dataframe tbody tr th:only-of-type {\n",
       "        vertical-align: middle;\n",
       "    }\n",
       "\n",
       "    .dataframe tbody tr th {\n",
       "        vertical-align: top;\n",
       "    }\n",
       "\n",
       "    .dataframe thead th {\n",
       "        text-align: right;\n",
       "    }\n",
       "</style>\n",
       "<table border=\"1\" class=\"dataframe\">\n",
       "  <thead>\n",
       "    <tr style=\"text-align: right;\">\n",
       "      <th></th>\n",
       "      <th>NUC</th>\n",
       "      <th>MIT</th>\n",
       "      <th>ME3</th>\n",
       "      <th>ME2</th>\n",
       "      <th>ME1</th>\n",
       "      <th>EXC</th>\n",
       "      <th>VAC</th>\n",
       "      <th>POX</th>\n",
       "      <th>ERL</th>\n",
       "    </tr>\n",
       "  </thead>\n",
       "  <tbody>\n",
       "    <tr>\n",
       "      <th>0</th>\n",
       "      <td>0.58</td>\n",
       "      <td>0.61</td>\n",
       "      <td>0.47</td>\n",
       "      <td>0.13</td>\n",
       "      <td>0.5</td>\n",
       "      <td>0.0</td>\n",
       "      <td>0.48</td>\n",
       "      <td>0.22</td>\n",
       "      <td>MIT</td>\n",
       "    </tr>\n",
       "    <tr>\n",
       "      <th>1</th>\n",
       "      <td>0.43</td>\n",
       "      <td>0.67</td>\n",
       "      <td>0.48</td>\n",
       "      <td>0.27</td>\n",
       "      <td>0.5</td>\n",
       "      <td>0.0</td>\n",
       "      <td>0.53</td>\n",
       "      <td>0.22</td>\n",
       "      <td>MIT</td>\n",
       "    </tr>\n",
       "    <tr>\n",
       "      <th>2</th>\n",
       "      <td>0.64</td>\n",
       "      <td>0.62</td>\n",
       "      <td>0.49</td>\n",
       "      <td>0.15</td>\n",
       "      <td>0.5</td>\n",
       "      <td>0.0</td>\n",
       "      <td>0.53</td>\n",
       "      <td>0.22</td>\n",
       "      <td>MIT</td>\n",
       "    </tr>\n",
       "    <tr>\n",
       "      <th>3</th>\n",
       "      <td>0.58</td>\n",
       "      <td>0.44</td>\n",
       "      <td>0.57</td>\n",
       "      <td>0.13</td>\n",
       "      <td>0.5</td>\n",
       "      <td>0.0</td>\n",
       "      <td>0.54</td>\n",
       "      <td>0.22</td>\n",
       "      <td>NUC</td>\n",
       "    </tr>\n",
       "    <tr>\n",
       "      <th>4</th>\n",
       "      <td>0.42</td>\n",
       "      <td>0.44</td>\n",
       "      <td>0.48</td>\n",
       "      <td>0.54</td>\n",
       "      <td>0.5</td>\n",
       "      <td>0.0</td>\n",
       "      <td>0.48</td>\n",
       "      <td>0.22</td>\n",
       "      <td>MIT</td>\n",
       "    </tr>\n",
       "    <tr>\n",
       "      <th>...</th>\n",
       "      <td>...</td>\n",
       "      <td>...</td>\n",
       "      <td>...</td>\n",
       "      <td>...</td>\n",
       "      <td>...</td>\n",
       "      <td>...</td>\n",
       "      <td>...</td>\n",
       "      <td>...</td>\n",
       "      <td>...</td>\n",
       "    </tr>\n",
       "    <tr>\n",
       "      <th>1479</th>\n",
       "      <td>0.81</td>\n",
       "      <td>0.62</td>\n",
       "      <td>0.43</td>\n",
       "      <td>0.17</td>\n",
       "      <td>0.5</td>\n",
       "      <td>0.0</td>\n",
       "      <td>0.53</td>\n",
       "      <td>0.22</td>\n",
       "      <td>ME2</td>\n",
       "    </tr>\n",
       "    <tr>\n",
       "      <th>1480</th>\n",
       "      <td>0.47</td>\n",
       "      <td>0.43</td>\n",
       "      <td>0.61</td>\n",
       "      <td>0.40</td>\n",
       "      <td>0.5</td>\n",
       "      <td>0.0</td>\n",
       "      <td>0.48</td>\n",
       "      <td>0.47</td>\n",
       "      <td>NUC</td>\n",
       "    </tr>\n",
       "    <tr>\n",
       "      <th>1481</th>\n",
       "      <td>0.67</td>\n",
       "      <td>0.57</td>\n",
       "      <td>0.36</td>\n",
       "      <td>0.19</td>\n",
       "      <td>0.5</td>\n",
       "      <td>0.0</td>\n",
       "      <td>0.56</td>\n",
       "      <td>0.22</td>\n",
       "      <td>ME2</td>\n",
       "    </tr>\n",
       "    <tr>\n",
       "      <th>1482</th>\n",
       "      <td>0.43</td>\n",
       "      <td>0.40</td>\n",
       "      <td>0.6</td>\n",
       "      <td>0.16</td>\n",
       "      <td>0.5</td>\n",
       "      <td>0.0</td>\n",
       "      <td>0.53</td>\n",
       "      <td>0.39</td>\n",
       "      <td>NUC</td>\n",
       "    </tr>\n",
       "    <tr>\n",
       "      <th>1483</th>\n",
       "      <td>0.65</td>\n",
       "      <td>0.54</td>\n",
       "      <td>0.54</td>\n",
       "      <td>0.13</td>\n",
       "      <td>0.5</td>\n",
       "      <td>0.0</td>\n",
       "      <td>0.53</td>\n",
       "      <td>0.22</td>\n",
       "      <td>CYT</td>\n",
       "    </tr>\n",
       "  </tbody>\n",
       "</table>\n",
       "<p>1484 rows × 9 columns</p>\n",
       "</div>"
      ],
      "text/plain": [
       "       NUC   MIT   ME3   ME2  ME1  EXC   VAC   POX  ERL\n",
       "0     0.58  0.61  0.47  0.13  0.5  0.0  0.48  0.22  MIT\n",
       "1     0.43  0.67  0.48  0.27  0.5  0.0  0.53  0.22  MIT\n",
       "2     0.64  0.62  0.49  0.15  0.5  0.0  0.53  0.22  MIT\n",
       "3     0.58  0.44  0.57  0.13  0.5  0.0  0.54  0.22  NUC\n",
       "4     0.42  0.44  0.48  0.54  0.5  0.0  0.48  0.22  MIT\n",
       "...    ...   ...   ...   ...  ...  ...   ...   ...  ...\n",
       "1479  0.81  0.62  0.43  0.17  0.5  0.0  0.53  0.22  ME2\n",
       "1480  0.47  0.43  0.61  0.40  0.5  0.0  0.48  0.47  NUC\n",
       "1481  0.67  0.57  0.36  0.19  0.5  0.0  0.56  0.22  ME2\n",
       "1482  0.43  0.40   0.6  0.16  0.5  0.0  0.53  0.39  NUC\n",
       "1483  0.65  0.54  0.54  0.13  0.5  0.0  0.53  0.22  CYT\n",
       "\n",
       "[1484 rows x 9 columns]"
      ]
     },
     "execution_count": 51,
     "metadata": {},
     "output_type": "execute_result"
    }
   ],
   "source": [
    "data"
   ]
  },
  {
   "cell_type": "code",
   "execution_count": 52,
   "id": "e8c2058a",
   "metadata": {},
   "outputs": [],
   "source": [
    "from sklearn.preprocessing import LabelEncoder\n",
    "\n",
    "label_encoder = LabelEncoder()\n",
    "\n",
    "data['ERL'] = encoded_categories = label_encoder.fit_transform(data['ERL'])"
   ]
  },
  {
   "cell_type": "code",
   "execution_count": 53,
   "id": "26281f57",
   "metadata": {},
   "outputs": [
    {
     "data": {
      "text/plain": [
       "array([6, 7, 0, 3, 2, 4, 5, 9, 8, 1])"
      ]
     },
     "execution_count": 53,
     "metadata": {},
     "output_type": "execute_result"
    }
   ],
   "source": [
    "data['ERL'].unique()"
   ]
  },
  {
   "cell_type": "code",
   "execution_count": 54,
   "id": "ef369b7f",
   "metadata": {},
   "outputs": [
    {
     "data": {
      "text/html": [
       "<div>\n",
       "<style scoped>\n",
       "    .dataframe tbody tr th:only-of-type {\n",
       "        vertical-align: middle;\n",
       "    }\n",
       "\n",
       "    .dataframe tbody tr th {\n",
       "        vertical-align: top;\n",
       "    }\n",
       "\n",
       "    .dataframe thead th {\n",
       "        text-align: right;\n",
       "    }\n",
       "</style>\n",
       "<table border=\"1\" class=\"dataframe\">\n",
       "  <thead>\n",
       "    <tr style=\"text-align: right;\">\n",
       "      <th></th>\n",
       "      <th>NUC</th>\n",
       "      <th>MIT</th>\n",
       "      <th>ME3</th>\n",
       "      <th>ME2</th>\n",
       "      <th>ME1</th>\n",
       "      <th>EXC</th>\n",
       "      <th>VAC</th>\n",
       "      <th>POX</th>\n",
       "      <th>ERL</th>\n",
       "    </tr>\n",
       "  </thead>\n",
       "  <tbody>\n",
       "    <tr>\n",
       "      <th>0</th>\n",
       "      <td>0.58</td>\n",
       "      <td>0.61</td>\n",
       "      <td>0.47</td>\n",
       "      <td>0.13</td>\n",
       "      <td>0.5</td>\n",
       "      <td>0.0</td>\n",
       "      <td>0.48</td>\n",
       "      <td>0.22</td>\n",
       "      <td>6</td>\n",
       "    </tr>\n",
       "    <tr>\n",
       "      <th>1</th>\n",
       "      <td>0.43</td>\n",
       "      <td>0.67</td>\n",
       "      <td>0.48</td>\n",
       "      <td>0.27</td>\n",
       "      <td>0.5</td>\n",
       "      <td>0.0</td>\n",
       "      <td>0.53</td>\n",
       "      <td>0.22</td>\n",
       "      <td>6</td>\n",
       "    </tr>\n",
       "    <tr>\n",
       "      <th>2</th>\n",
       "      <td>0.64</td>\n",
       "      <td>0.62</td>\n",
       "      <td>0.49</td>\n",
       "      <td>0.15</td>\n",
       "      <td>0.5</td>\n",
       "      <td>0.0</td>\n",
       "      <td>0.53</td>\n",
       "      <td>0.22</td>\n",
       "      <td>6</td>\n",
       "    </tr>\n",
       "    <tr>\n",
       "      <th>3</th>\n",
       "      <td>0.58</td>\n",
       "      <td>0.44</td>\n",
       "      <td>0.57</td>\n",
       "      <td>0.13</td>\n",
       "      <td>0.5</td>\n",
       "      <td>0.0</td>\n",
       "      <td>0.54</td>\n",
       "      <td>0.22</td>\n",
       "      <td>7</td>\n",
       "    </tr>\n",
       "    <tr>\n",
       "      <th>4</th>\n",
       "      <td>0.42</td>\n",
       "      <td>0.44</td>\n",
       "      <td>0.48</td>\n",
       "      <td>0.54</td>\n",
       "      <td>0.5</td>\n",
       "      <td>0.0</td>\n",
       "      <td>0.48</td>\n",
       "      <td>0.22</td>\n",
       "      <td>6</td>\n",
       "    </tr>\n",
       "    <tr>\n",
       "      <th>...</th>\n",
       "      <td>...</td>\n",
       "      <td>...</td>\n",
       "      <td>...</td>\n",
       "      <td>...</td>\n",
       "      <td>...</td>\n",
       "      <td>...</td>\n",
       "      <td>...</td>\n",
       "      <td>...</td>\n",
       "      <td>...</td>\n",
       "    </tr>\n",
       "    <tr>\n",
       "      <th>1479</th>\n",
       "      <td>0.81</td>\n",
       "      <td>0.62</td>\n",
       "      <td>0.43</td>\n",
       "      <td>0.17</td>\n",
       "      <td>0.5</td>\n",
       "      <td>0.0</td>\n",
       "      <td>0.53</td>\n",
       "      <td>0.22</td>\n",
       "      <td>4</td>\n",
       "    </tr>\n",
       "    <tr>\n",
       "      <th>1480</th>\n",
       "      <td>0.47</td>\n",
       "      <td>0.43</td>\n",
       "      <td>0.61</td>\n",
       "      <td>0.40</td>\n",
       "      <td>0.5</td>\n",
       "      <td>0.0</td>\n",
       "      <td>0.48</td>\n",
       "      <td>0.47</td>\n",
       "      <td>7</td>\n",
       "    </tr>\n",
       "    <tr>\n",
       "      <th>1481</th>\n",
       "      <td>0.67</td>\n",
       "      <td>0.57</td>\n",
       "      <td>0.36</td>\n",
       "      <td>0.19</td>\n",
       "      <td>0.5</td>\n",
       "      <td>0.0</td>\n",
       "      <td>0.56</td>\n",
       "      <td>0.22</td>\n",
       "      <td>4</td>\n",
       "    </tr>\n",
       "    <tr>\n",
       "      <th>1482</th>\n",
       "      <td>0.43</td>\n",
       "      <td>0.40</td>\n",
       "      <td>0.6</td>\n",
       "      <td>0.16</td>\n",
       "      <td>0.5</td>\n",
       "      <td>0.0</td>\n",
       "      <td>0.53</td>\n",
       "      <td>0.39</td>\n",
       "      <td>7</td>\n",
       "    </tr>\n",
       "    <tr>\n",
       "      <th>1483</th>\n",
       "      <td>0.65</td>\n",
       "      <td>0.54</td>\n",
       "      <td>0.54</td>\n",
       "      <td>0.13</td>\n",
       "      <td>0.5</td>\n",
       "      <td>0.0</td>\n",
       "      <td>0.53</td>\n",
       "      <td>0.22</td>\n",
       "      <td>0</td>\n",
       "    </tr>\n",
       "  </tbody>\n",
       "</table>\n",
       "<p>1484 rows × 9 columns</p>\n",
       "</div>"
      ],
      "text/plain": [
       "       NUC   MIT   ME3   ME2  ME1  EXC   VAC   POX  ERL\n",
       "0     0.58  0.61  0.47  0.13  0.5  0.0  0.48  0.22    6\n",
       "1     0.43  0.67  0.48  0.27  0.5  0.0  0.53  0.22    6\n",
       "2     0.64  0.62  0.49  0.15  0.5  0.0  0.53  0.22    6\n",
       "3     0.58  0.44  0.57  0.13  0.5  0.0  0.54  0.22    7\n",
       "4     0.42  0.44  0.48  0.54  0.5  0.0  0.48  0.22    6\n",
       "...    ...   ...   ...   ...  ...  ...   ...   ...  ...\n",
       "1479  0.81  0.62  0.43  0.17  0.5  0.0  0.53  0.22    4\n",
       "1480  0.47  0.43  0.61  0.40  0.5  0.0  0.48  0.47    7\n",
       "1481  0.67  0.57  0.36  0.19  0.5  0.0  0.56  0.22    4\n",
       "1482  0.43  0.40   0.6  0.16  0.5  0.0  0.53  0.39    7\n",
       "1483  0.65  0.54  0.54  0.13  0.5  0.0  0.53  0.22    0\n",
       "\n",
       "[1484 rows x 9 columns]"
      ]
     },
     "execution_count": 54,
     "metadata": {},
     "output_type": "execute_result"
    }
   ],
   "source": [
    "data"
   ]
  },
  {
   "cell_type": "code",
   "execution_count": 55,
   "id": "00a0e958",
   "metadata": {},
   "outputs": [],
   "source": [
    "X = data.iloc[:,:-1]\n",
    "y = data.iloc[:,-1]"
   ]
  },
  {
   "cell_type": "code",
   "execution_count": 56,
   "id": "f9b441d6",
   "metadata": {},
   "outputs": [
    {
     "name": "stdout",
     "output_type": "stream",
     "text": [
      "<class 'pandas.core.frame.DataFrame'>\n",
      "RangeIndex: 1484 entries, 0 to 1483\n",
      "Data columns (total 8 columns):\n",
      " #   Column  Non-Null Count  Dtype  \n",
      "---  ------  --------------  -----  \n",
      " 0   NUC     1484 non-null   float64\n",
      " 1   MIT     1484 non-null   float64\n",
      " 2   ME3     1484 non-null   object \n",
      " 3   ME2     1484 non-null   float64\n",
      " 4   ME1     1484 non-null   float64\n",
      " 5   EXC     1484 non-null   float64\n",
      " 6   VAC     1484 non-null   float64\n",
      " 7   POX     1484 non-null   float64\n",
      "dtypes: float64(7), object(1)\n",
      "memory usage: 92.9+ KB\n"
     ]
    }
   ],
   "source": [
    "X.info()"
   ]
  },
  {
   "cell_type": "code",
   "execution_count": 57,
   "id": "ee0c76a5",
   "metadata": {},
   "outputs": [
    {
     "data": {
      "text/plain": [
       "array([0.47, 0.48, 0.49, 0.57, 0.56, 0.59, 0.66, 0.6, 0.54, 0.52, 0.45,\n",
       "       0.5, 0.55, 0.42, '0.53+D2', 0.36, 0.43, 0.61, 0.51, 0.53, 0.39,\n",
       "       0.41, 0.58, 0.34, 0.44, 0.46, 0.63, 0.4, 0.21, 0.35, 0.62, 0.64,\n",
       "       0.37, 0.29, 0.71, 0.33, 0.38, 0.3, 0.69, 0.31, 0.75, 0.72, 0.32,\n",
       "       0.28, 0.65, 0.67, 0.68, 0.26, 0.27, 0.79, 1, 0.24, 0.22, 0.23],\n",
       "      dtype=object)"
      ]
     },
     "execution_count": 57,
     "metadata": {},
     "output_type": "execute_result"
    }
   ],
   "source": [
    "data['ME3'].unique()"
   ]
  },
  {
   "cell_type": "code",
   "execution_count": 58,
   "id": "441080c6",
   "metadata": {},
   "outputs": [],
   "source": [
    "def clean_and_convert(value):\n",
    "    numeric_part = re.search(r'[-+]?\\d*\\.\\d+|\\d+', str(value))\n",
    "    if numeric_part:\n",
    "        return float(numeric_part.group())\n",
    "    else:\n",
    "        return None"
   ]
  },
  {
   "cell_type": "code",
   "execution_count": 59,
   "id": "23bb3e7c",
   "metadata": {},
   "outputs": [],
   "source": [
    "import re\n",
    "X = X.apply(lambda x:x.apply(clean_and_convert))"
   ]
  },
  {
   "cell_type": "code",
   "execution_count": 60,
   "id": "5b818c83",
   "metadata": {},
   "outputs": [],
   "source": [
    "from sklearn.model_selection import train_test_split\n",
    "X_train, X_test, y_train, y_test = train_test_split(X, y, test_size=0.2, random_state=42)"
   ]
  },
  {
   "cell_type": "code",
   "execution_count": 61,
   "id": "c791996a",
   "metadata": {},
   "outputs": [
    {
     "name": "stdout",
     "output_type": "stream",
     "text": [
      "<class 'pandas.core.frame.DataFrame'>\n",
      "RangeIndex: 1484 entries, 0 to 1483\n",
      "Data columns (total 8 columns):\n",
      " #   Column  Non-Null Count  Dtype  \n",
      "---  ------  --------------  -----  \n",
      " 0   NUC     1484 non-null   float64\n",
      " 1   MIT     1484 non-null   float64\n",
      " 2   ME3     1484 non-null   float64\n",
      " 3   ME2     1484 non-null   float64\n",
      " 4   ME1     1484 non-null   float64\n",
      " 5   EXC     1484 non-null   float64\n",
      " 6   VAC     1484 non-null   float64\n",
      " 7   POX     1484 non-null   float64\n",
      "dtypes: float64(8)\n",
      "memory usage: 92.9 KB\n"
     ]
    }
   ],
   "source": [
    "X.info()"
   ]
  },
  {
   "cell_type": "code",
   "execution_count": 62,
   "id": "ef5841c0",
   "metadata": {},
   "outputs": [],
   "source": [
    "from sklearn.ensemble import RandomForestClassifier\n",
    "from sklearn.metrics import accuracy_score\n",
    "from sklearn.metrics import confusion_matrix"
   ]
  },
  {
   "cell_type": "markdown",
   "id": "f18ae55d",
   "metadata": {},
   "source": [
    "## Random Forest"
   ]
  },
  {
   "cell_type": "code",
   "execution_count": 63,
   "id": "bd5c0cd4",
   "metadata": {},
   "outputs": [
    {
     "name": "stdout",
     "output_type": "stream",
     "text": [
      "Random Forest Accuracy: 0.6262626262626263\n"
     ]
    }
   ],
   "source": [
    "rf_classifier = RandomForestClassifier(n_estimators=100, random_state=42)\n",
    "rf_classifier.fit(X_train, y_train)\n",
    "rf_predictions = rf_classifier.predict(X_test)\n",
    "rf_accuracy = accuracy_score(y_test, rf_predictions)\n",
    "print(\"Random Forest Accuracy:\", rf_accuracy)"
   ]
  },
  {
   "cell_type": "code",
   "execution_count": 66,
   "id": "683a96f6",
   "metadata": {},
   "outputs": [
    {
     "data": {
      "text/plain": [
       "array([[59,  1,  0,  0,  3,  4, 29,  0,  0],\n",
       "       [ 1,  4,  0,  0,  0,  3,  0,  0,  0],\n",
       "       [ 0,  3,  5,  0,  0,  0,  0,  0,  0],\n",
       "       [ 0,  0,  1,  3,  0,  1,  1,  0,  0],\n",
       "       [ 0,  0,  0,  1, 32,  0,  1,  0,  0],\n",
       "       [10,  0,  0,  2,  3, 30,  7,  0,  0],\n",
       "       [23,  0,  0,  0,  5,  6, 51,  0,  0],\n",
       "       [ 0,  0,  0,  0,  0,  0,  0,  2,  0],\n",
       "       [ 2,  1,  0,  0,  0,  1,  2,  0,  0]], dtype=int64)"
      ]
     },
     "execution_count": 66,
     "metadata": {},
     "output_type": "execute_result"
    }
   ],
   "source": [
    "confusion_matrix(y_test, rf_predictions)"
   ]
  },
  {
   "cell_type": "markdown",
   "id": "69767d1c",
   "metadata": {},
   "source": [
    "## XGBoost"
   ]
  },
  {
   "cell_type": "code",
   "execution_count": 70,
   "id": "c2d10445",
   "metadata": {},
   "outputs": [],
   "source": [
    "from xgboost import XGBClassifier"
   ]
  },
  {
   "cell_type": "code",
   "execution_count": 71,
   "id": "b4d7a1d7",
   "metadata": {},
   "outputs": [
    {
     "name": "stdout",
     "output_type": "stream",
     "text": [
      "XGBoost Accuracy: 0.622895622895623\n"
     ]
    }
   ],
   "source": [
    "xgb_classifier = XGBClassifier(learning_rate=0.1, n_estimators=100, max_depth=3, random_state=42)\n",
    "xgb_classifier.fit(X_train, y_train)\n",
    "xgb_predictions = xgb_classifier.predict(X_test)\n",
    "xgb_accuracy = accuracy_score(y_test, xgb_predictions)\n",
    "print(\"XGBoost Accuracy:\", xgb_accuracy)"
   ]
  },
  {
   "cell_type": "code",
   "execution_count": 72,
   "id": "ce4f3364",
   "metadata": {},
   "outputs": [
    {
     "data": {
      "text/plain": [
       "array([[62,  0,  0,  0,  2,  5, 27,  0,  0],\n",
       "       [ 2,  4,  0,  0,  0,  2,  0,  0,  0],\n",
       "       [ 0,  2,  6,  0,  0,  0,  0,  0,  0],\n",
       "       [ 1,  0,  1,  3,  0,  1,  0,  0,  0],\n",
       "       [ 0,  0,  0,  1, 30,  1,  2,  0,  0],\n",
       "       [14,  0,  0,  2,  3, 28,  5,  0,  0],\n",
       "       [23,  0,  0,  2,  5,  5, 50,  0,  0],\n",
       "       [ 0,  0,  0,  0,  0,  0,  0,  2,  0],\n",
       "       [ 1,  1,  1,  0,  0,  1,  2,  0,  0]], dtype=int64)"
      ]
     },
     "execution_count": 72,
     "metadata": {},
     "output_type": "execute_result"
    }
   ],
   "source": [
    "confusion_matrix(y_test, xgb_predictions)"
   ]
  },
  {
   "cell_type": "markdown",
   "id": "3b5ff42a",
   "metadata": {},
   "source": [
    "## SVM"
   ]
  },
  {
   "cell_type": "code",
   "execution_count": 74,
   "id": "0c9a2fb2",
   "metadata": {},
   "outputs": [],
   "source": [
    "from sklearn.svm import SVC"
   ]
  },
  {
   "cell_type": "code",
   "execution_count": 75,
   "id": "d936aa17",
   "metadata": {},
   "outputs": [
    {
     "name": "stdout",
     "output_type": "stream",
     "text": [
      "SVM Accuracy: 0.5757575757575758\n"
     ]
    }
   ],
   "source": [
    "svm_classifier = SVC(kernel='linear', C=1, random_state=42)\n",
    "svm_classifier.fit(X_train, y_train)\n",
    "svm_predictions = svm_classifier.predict(X_test)\n",
    "svm_accuracy = accuracy_score(y_test, svm_predictions)\n",
    "print(\"SVM Accuracy:\", svm_accuracy)"
   ]
  },
  {
   "cell_type": "code",
   "execution_count": 76,
   "id": "77565f53",
   "metadata": {},
   "outputs": [
    {
     "data": {
      "text/plain": [
       "array([[75,  0,  1,  0,  1,  2, 17,  0,  0],\n",
       "       [ 2,  0,  2,  0,  0,  4,  0,  0,  0],\n",
       "       [ 1,  0,  6,  0,  0,  1,  0,  0,  0],\n",
       "       [ 2,  0,  1,  1,  0,  1,  1,  0,  0],\n",
       "       [ 2,  0,  0,  0, 26,  1,  5,  0,  0],\n",
       "       [20,  0,  0,  0,  2, 28,  2,  0,  0],\n",
       "       [44,  0,  1,  0,  1,  6, 33,  0,  0],\n",
       "       [ 0,  0,  0,  0,  0,  0,  0,  2,  0],\n",
       "       [ 4,  0,  0,  0,  0,  2,  0,  0,  0]], dtype=int64)"
      ]
     },
     "execution_count": 76,
     "metadata": {},
     "output_type": "execute_result"
    }
   ],
   "source": [
    "confusion_matrix(y_test, svm_predictions)"
   ]
  },
  {
   "cell_type": "markdown",
   "id": "72fe7834",
   "metadata": {},
   "source": [
    "## ANN"
   ]
  },
  {
   "cell_type": "code",
   "execution_count": 77,
   "id": "876568dc",
   "metadata": {},
   "outputs": [],
   "source": [
    "\"# Decision Tree Regression\n",
    "from sklearn.tree import DecisionTreeRegressor\n",
    "\n",
    "dt_model = DecisionTreeRegressor()\n",
    "dt_model.fit(X_train_scaled, y_train)\n",
    "dt_pred = dt_model.predict(X_test_scaled)\n",
    "\n",
    "dt_r2, dt_mse, dt_rmse = evaluate_model(y_test, dt_pred)\n",
    "print(\"\"Decision Tree Regression:\"\")\n",
    "print(f\"\"R2 Score: {dt_r2}\"\")\n",
    "print(f\"\"MSE: {dt_mse}\"\")\n",
    "print(f\"\"RMSE: {dt_rmse}\"\")\"\n"
   ]
  },
  {
   "cell_type": "code",
   "execution_count": 86,
   "id": "75e04948",
   "metadata": {},
   "outputs": [],
   "source": [
    "model = Sequential()\n",
    "model.add(Dense(8, input_dim=8, activation='relu'))\n",
    "model.add(Dense(10, activation='softmax'))\n",
    "model.compile(loss='sparse_categorical_crossentropy', optimizer='adam', metrics=['accuracy'])"
   ]
  },
  {
   "cell_type": "code",
   "execution_count": 90,
   "id": "14acf167",
   "metadata": {},
   "outputs": [],
   "source": [
    "import numpy as np"
   ]
  },
  {
   "cell_type": "code",
   "execution_count": 92,
   "id": "9fa6070d",
   "metadata": {},
   "outputs": [
    {
     "name": "stdout",
     "output_type": "stream",
     "text": [
      "Epoch 1/50\n",
      "38/38 [==============================] - 0s 1ms/step - loss: 1.1536 - accuracy: 0.5611\n",
      "Epoch 2/50\n",
      "38/38 [==============================] - 0s 1ms/step - loss: 1.1532 - accuracy: 0.5628\n",
      "Epoch 3/50\n",
      "38/38 [==============================] - 0s 1ms/step - loss: 1.1512 - accuracy: 0.5695\n",
      "Epoch 4/50\n",
      "38/38 [==============================] - 0s 1ms/step - loss: 1.1511 - accuracy: 0.5628\n",
      "Epoch 5/50\n",
      "38/38 [==============================] - 0s 1ms/step - loss: 1.1493 - accuracy: 0.5720\n",
      "Epoch 6/50\n",
      "38/38 [==============================] - 0s 1ms/step - loss: 1.1499 - accuracy: 0.5788\n",
      "Epoch 7/50\n",
      "38/38 [==============================] - 0s 1ms/step - loss: 1.1487 - accuracy: 0.5687\n",
      "Epoch 8/50\n",
      "38/38 [==============================] - 0s 1ms/step - loss: 1.1502 - accuracy: 0.5737\n",
      "Epoch 9/50\n",
      "38/38 [==============================] - 0s 1ms/step - loss: 1.1460 - accuracy: 0.5661\n",
      "Epoch 10/50\n",
      "38/38 [==============================] - 0s 1ms/step - loss: 1.1452 - accuracy: 0.5712\n",
      "Epoch 11/50\n",
      "38/38 [==============================] - 0s 1ms/step - loss: 1.1442 - accuracy: 0.5754\n",
      "Epoch 12/50\n",
      "38/38 [==============================] - 0s 1ms/step - loss: 1.1444 - accuracy: 0.5746\n",
      "Epoch 13/50\n",
      "38/38 [==============================] - 0s 1ms/step - loss: 1.1434 - accuracy: 0.5805\n",
      "Epoch 14/50\n",
      "38/38 [==============================] - 0s 1ms/step - loss: 1.1422 - accuracy: 0.5754\n",
      "Epoch 15/50\n",
      "38/38 [==============================] - 0s 1ms/step - loss: 1.1408 - accuracy: 0.5779\n",
      "Epoch 16/50\n",
      "38/38 [==============================] - 0s 1ms/step - loss: 1.1408 - accuracy: 0.5737\n",
      "Epoch 17/50\n",
      "38/38 [==============================] - 0s 1ms/step - loss: 1.1408 - accuracy: 0.5703\n",
      "Epoch 18/50\n",
      "38/38 [==============================] - 0s 1ms/step - loss: 1.1392 - accuracy: 0.5695\n",
      "Epoch 19/50\n",
      "38/38 [==============================] - 0s 1ms/step - loss: 1.1394 - accuracy: 0.5729\n",
      "Epoch 20/50\n",
      "38/38 [==============================] - 0s 1ms/step - loss: 1.1387 - accuracy: 0.5813\n",
      "Epoch 21/50\n",
      "38/38 [==============================] - 0s 1ms/step - loss: 1.1380 - accuracy: 0.5821\n",
      "Epoch 22/50\n",
      "38/38 [==============================] - 0s 1ms/step - loss: 1.1368 - accuracy: 0.5762\n",
      "Epoch 23/50\n",
      "38/38 [==============================] - 0s 1ms/step - loss: 1.1376 - accuracy: 0.5720\n",
      "Epoch 24/50\n",
      "38/38 [==============================] - 0s 1ms/step - loss: 1.1361 - accuracy: 0.5678\n",
      "Epoch 25/50\n",
      "38/38 [==============================] - 0s 1ms/step - loss: 1.1355 - accuracy: 0.5796\n",
      "Epoch 26/50\n",
      "38/38 [==============================] - 0s 1ms/step - loss: 1.1341 - accuracy: 0.5746\n",
      "Epoch 27/50\n",
      "38/38 [==============================] - 0s 1ms/step - loss: 1.1339 - accuracy: 0.5703\n",
      "Epoch 28/50\n",
      "38/38 [==============================] - 0s 1ms/step - loss: 1.1338 - accuracy: 0.5805\n",
      "Epoch 29/50\n",
      "38/38 [==============================] - 0s 1ms/step - loss: 1.1324 - accuracy: 0.5737\n",
      "Epoch 30/50\n",
      "38/38 [==============================] - 0s 2ms/step - loss: 1.1326 - accuracy: 0.5813\n",
      "Epoch 31/50\n",
      "38/38 [==============================] - 0s 2ms/step - loss: 1.1310 - accuracy: 0.5754\n",
      "Epoch 32/50\n",
      "38/38 [==============================] - 0s 1ms/step - loss: 1.1321 - accuracy: 0.5712\n",
      "Epoch 33/50\n",
      "38/38 [==============================] - 0s 1ms/step - loss: 1.1311 - accuracy: 0.5746\n",
      "Epoch 34/50\n",
      "38/38 [==============================] - 0s 1ms/step - loss: 1.1305 - accuracy: 0.5737\n",
      "Epoch 35/50\n",
      "38/38 [==============================] - 0s 1ms/step - loss: 1.1286 - accuracy: 0.5762\n",
      "Epoch 36/50\n",
      "38/38 [==============================] - 0s 1ms/step - loss: 1.1282 - accuracy: 0.5737\n",
      "Epoch 37/50\n",
      "38/38 [==============================] - 0s 1ms/step - loss: 1.1286 - accuracy: 0.5695\n",
      "Epoch 38/50\n",
      "38/38 [==============================] - 0s 1ms/step - loss: 1.1266 - accuracy: 0.5813\n",
      "Epoch 39/50\n",
      "38/38 [==============================] - 0s 1ms/step - loss: 1.1297 - accuracy: 0.5805\n",
      "Epoch 40/50\n",
      "38/38 [==============================] - 0s 1ms/step - loss: 1.1268 - accuracy: 0.5788\n",
      "Epoch 41/50\n",
      "38/38 [==============================] - 0s 1ms/step - loss: 1.1254 - accuracy: 0.5695\n",
      "Epoch 42/50\n",
      "38/38 [==============================] - 0s 1ms/step - loss: 1.1244 - accuracy: 0.5788\n",
      "Epoch 43/50\n",
      "38/38 [==============================] - 0s 2ms/step - loss: 1.1246 - accuracy: 0.5779\n",
      "Epoch 44/50\n",
      "38/38 [==============================] - 0s 2ms/step - loss: 1.1251 - accuracy: 0.5720\n",
      "Epoch 45/50\n",
      "38/38 [==============================] - 0s 2ms/step - loss: 1.1226 - accuracy: 0.5703\n",
      "Epoch 46/50\n",
      "38/38 [==============================] - 0s 1ms/step - loss: 1.1228 - accuracy: 0.5762\n",
      "Epoch 47/50\n",
      "38/38 [==============================] - 0s 1ms/step - loss: 1.1223 - accuracy: 0.5788\n",
      "Epoch 48/50\n",
      "38/38 [==============================] - 0s 1ms/step - loss: 1.1235 - accuracy: 0.5712\n",
      "Epoch 49/50\n",
      "38/38 [==============================] - 0s 2ms/step - loss: 1.1222 - accuracy: 0.5687\n",
      "Epoch 50/50\n",
      "38/38 [==============================] - 0s 2ms/step - loss: 1.1222 - accuracy: 0.5821\n",
      "10/10 [==============================] - 0s 1ms/step\n",
      "Keras Accuracy: 0.5858585858585859\n"
     ]
    }
   ],
   "source": [
    "model.fit(X_train, y_train, epochs=50, batch_size=32, verbose=1)\n",
    "keras_predictions = np.argmax(model.predict(X_test), axis=-1)\n",
    "keras_accuracy = accuracy_score(y_test, keras_predictions)\n",
    "print(\"Keras Accuracy:\", keras_accuracy)"
   ]
  },
  {
   "cell_type": "code",
   "execution_count": null,
   "id": "ee20764d",
   "metadata": {},
   "outputs": [],
   "source": []
  },
  {
   "cell_type": "code",
   "execution_count": null,
   "id": "bdb6b445",
   "metadata": {},
   "outputs": [],
   "source": []
  },
  {
   "cell_type": "code",
   "execution_count": null,
   "id": "06a46765",
   "metadata": {},
   "outputs": [],
   "source": []
  },
  {
   "cell_type": "code",
   "execution_count": null,
   "id": "06f22047",
   "metadata": {},
   "outputs": [],
   "source": []
  },
  {
   "cell_type": "code",
   "execution_count": null,
   "id": "4a67adab",
   "metadata": {},
   "outputs": [],
   "source": []
  },
  {
   "cell_type": "code",
   "execution_count": null,
   "id": "39ff8cff",
   "metadata": {},
   "outputs": [],
   "source": []
  },
  {
   "cell_type": "code",
   "execution_count": null,
   "id": "67019ed4",
   "metadata": {},
   "outputs": [],
   "source": []
  },
  {
   "cell_type": "code",
   "execution_count": null,
   "id": "1a0fa384",
   "metadata": {},
   "outputs": [],
   "source": []
  },
  {
   "cell_type": "code",
   "execution_count": null,
   "id": "15eea311",
   "metadata": {},
   "outputs": [],
   "source": []
  },
  {
   "cell_type": "code",
   "execution_count": null,
   "id": "0bc6df5e",
   "metadata": {},
   "outputs": [],
   "source": []
  },
  {
   "cell_type": "code",
   "execution_count": null,
   "id": "c4cc519f",
   "metadata": {},
   "outputs": [],
   "source": []
  },
  {
   "cell_type": "code",
   "execution_count": null,
   "id": "5c65413a",
   "metadata": {},
   "outputs": [],
   "source": []
  }
 ],
 "metadata": {
  "kernelspec": {
   "display_name": "Python 3 (ipykernel)",
   "language": "python",
   "name": "python3"
  },
  "language_info": {
   "codemirror_mode": {
    "name": "ipython",
    "version": 3
   },
   "file_extension": ".py",
   "mimetype": "text/x-python",
   "name": "python",
   "nbconvert_exporter": "python",
   "pygments_lexer": "ipython3",
   "version": "3.9.18"
  }
 },
 "nbformat": 4,
 "nbformat_minor": 5
}
